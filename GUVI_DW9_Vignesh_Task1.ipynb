{
  "nbformat": 4,
  "nbformat_minor": 0,
  "metadata": {
    "colab": {
      "name": "GUVI DW9 Vignesh - Task1.ipynb",
      "provenance": [],
      "collapsed_sections": [],
      "authorship_tag": "ABX9TyOZJCZxEWjAEOWotyZGbioY",
      "include_colab_link": true
    },
    "kernelspec": {
      "name": "python3",
      "display_name": "Python 3"
    },
    "language_info": {
      "name": "python"
    }
  },
  "cells": [
    {
      "cell_type": "markdown",
      "metadata": {
        "id": "view-in-github",
        "colab_type": "text"
      },
      "source": [
        "<a href=\"https://colab.research.google.com/github/njwritescode/IITGUVI/blob/main/GUVI_DW9_Vignesh_Task1.ipynb\" target=\"_parent\"><img src=\"https://colab.research.google.com/assets/colab-badge.svg\" alt=\"Open In Colab\"/></a>"
      ]
    },
    {
      "cell_type": "code",
      "execution_count": null,
      "metadata": {
        "colab": {
          "base_uri": "https://localhost:8080/"
        },
        "id": "Kkc-4rKwop3q",
        "outputId": "7e66b8f5-ea11-4a3b-9535-e44862c03403"
      },
      "outputs": [
        {
          "output_type": "stream",
          "name": "stdout",
          "text": [
            "Collecting dnspython\n",
            "  Downloading dnspython-2.2.1-py3-none-any.whl (269 kB)\n",
            "\u001b[?25l\r\u001b[K     |█▏                              | 10 kB 17.6 MB/s eta 0:00:01\r\u001b[K     |██▍                             | 20 kB 19.5 MB/s eta 0:00:01\r\u001b[K     |███▋                            | 30 kB 19.9 MB/s eta 0:00:01\r\u001b[K     |████▉                           | 40 kB 15.5 MB/s eta 0:00:01\r\u001b[K     |██████                          | 51 kB 5.3 MB/s eta 0:00:01\r\u001b[K     |███████▎                        | 61 kB 5.8 MB/s eta 0:00:01\r\u001b[K     |████████▌                       | 71 kB 4.9 MB/s eta 0:00:01\r\u001b[K     |█████████▊                      | 81 kB 4.8 MB/s eta 0:00:01\r\u001b[K     |███████████                     | 92 kB 5.3 MB/s eta 0:00:01\r\u001b[K     |████████████▏                   | 102 kB 5.3 MB/s eta 0:00:01\r\u001b[K     |█████████████▍                  | 112 kB 5.3 MB/s eta 0:00:01\r\u001b[K     |██████████████▋                 | 122 kB 5.3 MB/s eta 0:00:01\r\u001b[K     |███████████████▉                | 133 kB 5.3 MB/s eta 0:00:01\r\u001b[K     |█████████████████               | 143 kB 5.3 MB/s eta 0:00:01\r\u001b[K     |██████████████████▎             | 153 kB 5.3 MB/s eta 0:00:01\r\u001b[K     |███████████████████▌            | 163 kB 5.3 MB/s eta 0:00:01\r\u001b[K     |████████████████████▊           | 174 kB 5.3 MB/s eta 0:00:01\r\u001b[K     |██████████████████████          | 184 kB 5.3 MB/s eta 0:00:01\r\u001b[K     |███████████████████████▏        | 194 kB 5.3 MB/s eta 0:00:01\r\u001b[K     |████████████████████████▍       | 204 kB 5.3 MB/s eta 0:00:01\r\u001b[K     |█████████████████████████▋      | 215 kB 5.3 MB/s eta 0:00:01\r\u001b[K     |██████████████████████████▉     | 225 kB 5.3 MB/s eta 0:00:01\r\u001b[K     |████████████████████████████    | 235 kB 5.3 MB/s eta 0:00:01\r\u001b[K     |█████████████████████████████▎  | 245 kB 5.3 MB/s eta 0:00:01\r\u001b[K     |██████████████████████████████▍ | 256 kB 5.3 MB/s eta 0:00:01\r\u001b[K     |███████████████████████████████▋| 266 kB 5.3 MB/s eta 0:00:01\r\u001b[K     |████████████████████████████████| 269 kB 5.3 MB/s \n",
            "\u001b[?25hInstalling collected packages: dnspython\n",
            "Successfully installed dnspython-2.2.1\n",
            "Requirement already satisfied: pymongo[srv] in /usr/local/lib/python3.7/dist-packages (4.0.2)\n",
            "Requirement already satisfied: dnspython<3.0.0,>=1.16.0 in /usr/local/lib/python3.7/dist-packages (from pymongo[srv]) (2.2.1)\n"
          ]
        }
      ],
      "source": [
        "!pip install dnspython\n",
        "!pip install pymongo[srv]\n",
        "import pandas as pd\n",
        "import re\n",
        "import json"
      ]
    },
    {
      "cell_type": "code",
      "source": [
        "import re\n",
        "import os\n",
        "import json\n",
        "\n",
        "\n",
        "\n",
        "def validation():\n",
        "  email=input(\"Enter a user emailID for registration:\")\n",
        "  regex1 = '^[A-Za-z0-9]+[@]\\w+[.]\\w{2,3}$'\n",
        "  if(re.search  (regex1, email)):\n",
        "    password=input(\"Enter the Password for registraion:\")\n",
        "    regex2 = \"^.*(?=.{6,15})(?=.*\\d)(?=.*[a-z])(?=.*[A-Z])(?=.*[@#$%!*()^&+=]).*$\"\n",
        "    if(re.findall(regex2, password)):\n",
        "      print(\"Valid Email and Password\")\n",
        "      Dic1={email:password}\n",
        "      path = '/content/guvitask1.txt'\n",
        "      isExist = os.path.exists(path)\n",
        "      if isExist is False:\n",
        "        f = open(\"guvitask1.txt\", \"w\")\n",
        "        f.write(json.dumps(Dic1))\n",
        "        f.close()\n",
        "        print(\"Registration Successful\")\n",
        "    \n",
        "      else:\n",
        "        f = open(\"guvitask1.txt\", \"r\")\n",
        "        filecontents = f.read()\n",
        "        x = json.loads(filecontents)\n",
        "        f.close()\n",
        "        x.update(Dic1)\n",
        "        f = open(\"guvitask1.txt\", \"w\")\n",
        "        f.write(json.dumps(x))\n",
        "        f.close()\n",
        "        print(\"Registration Successful\")\n",
        "    else:\n",
        "      print(\"Invalid Password, make sure the following conditions are satisfied:\"\n",
        "      \"\\n Your password must have:\"\n",
        "      \"\\n   one special character\"\n",
        "      \"\\n   one digit\"\n",
        "      \"\\n   one uppercase\"\n",
        "      \"\\n   one lowercase character\")\n",
        "  else:\n",
        "    print(\"Invalid Username, make sure the following conditions are satisfied:\" \n",
        "    \"\\n Username should have @ and followed by .\" \n",
        "    \"\\n There should not be any . immediate next to @\" \n",
        "    \"\\n It should not start with special characters and numbers\") \n",
        "\n",
        "\n",
        "def ForgotPassword():\n",
        "  Forgotpass_Email=input(\"Enter your email to retrieve your password: \")\n",
        "  f=open(\"guvitask1.txt\",\"r\")\n",
        "  filecontents=f.read()\n",
        "  x=json.loads(filecontents)\n",
        "  f.close()\n",
        "  if(Forgotpass_Email in x.keys()):\n",
        "    print(\"The Password for your email is: \",x[Forgotpass_Email])\n",
        "  else:\n",
        "    print(\"Go and Register\")\n",
        "\n",
        "def Login():\n",
        "  Login_Email = input(\"Enter your login email \")\n",
        "\n",
        "  f = open(\"guvitask1.txt\", \"r\")\n",
        "  filecontents = f.read()\n",
        "  x = json.loads(filecontents)\n",
        "  f.close()\n",
        "  if (Login_Email not in x.keys()):\n",
        "    print(\"Your email is not registered, please Register first and then Login\")\n",
        "  else:\n",
        "    Login_Password = input(\"Enter your login password \")\n",
        "    if (x[Login_Email] == Login_Password):\n",
        "      print(\"Login Successful\")\n",
        "    else:\n",
        "      print(\"Forgot Password? Please provide the email ID to retrieve the password\")\n",
        "      ForgotPassword()\n",
        "\n",
        "ini1=input(\"Enter 1 for Registraion \\nEnter 2 for Login\\n\")\n",
        "if ini1==\"1\":\n",
        "  validation()\n",
        "\n",
        "elif ini1==\"2\":\n",
        "  Login()\n",
        "    \n",
        "else:\n",
        "  print(\"Ener a valid option\")"
      ],
      "metadata": {
        "colab": {
          "base_uri": "https://localhost:8080/"
        },
        "id": "PXESEBp0rf9A",
        "outputId": "d2ac9bef-c82b-420b-a5a1-882f6cbc662f"
      },
      "execution_count": 2,
      "outputs": [
        {
          "output_type": "stream",
          "name": "stdout",
          "text": [
            "Enter 1 for Registraion \n",
            "Enter 2 for Login\n",
            "1\n",
            "Enter a user emailID for registration:nj34@gmail.com\n",
            "Enter the Password for registraion:Qwerty!123\n",
            "Valid Email and Password\n",
            "Registration Successful\n"
          ]
        }
      ]
    }
  ]
}