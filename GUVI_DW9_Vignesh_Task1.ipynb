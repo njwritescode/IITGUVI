{
  "nbformat": 4,
  "nbformat_minor": 0,
  "metadata": {
    "colab": {
      "name": "GUVI DW9 Vignesh - Task1.ipynb",
      "provenance": [],
      "collapsed_sections": [],
      "authorship_tag": "ABX9TyNper2La5sWgNG6ZRpZDKul",
      "include_colab_link": true
    },
    "kernelspec": {
      "name": "python3",
      "display_name": "Python 3"
    },
    "language_info": {
      "name": "python"
    }
  },
  "cells": [
    {
      "cell_type": "markdown",
      "metadata": {
        "id": "view-in-github",
        "colab_type": "text"
      },
      "source": [
        "<a href=\"https://colab.research.google.com/github/njwritescode/IITGUVI/blob/main/GUVI_DW9_Vignesh_Task1.ipynb\" target=\"_parent\"><img src=\"https://colab.research.google.com/assets/colab-badge.svg\" alt=\"Open In Colab\"/></a>"
      ]
    },
    {
      "cell_type": "code",
      "execution_count": 1,
      "metadata": {
        "colab": {
          "base_uri": "https://localhost:8080/"
        },
        "id": "Kkc-4rKwop3q",
        "outputId": "7e66b8f5-ea11-4a3b-9535-e44862c03403"
      },
      "outputs": [
        {
          "output_type": "stream",
          "name": "stdout",
          "text": [
            "Collecting dnspython\n",
            "  Downloading dnspython-2.2.1-py3-none-any.whl (269 kB)\n",
            "\u001b[?25l\r\u001b[K     |█▏                              | 10 kB 17.6 MB/s eta 0:00:01\r\u001b[K     |██▍                             | 20 kB 19.5 MB/s eta 0:00:01\r\u001b[K     |███▋                            | 30 kB 19.9 MB/s eta 0:00:01\r\u001b[K     |████▉                           | 40 kB 15.5 MB/s eta 0:00:01\r\u001b[K     |██████                          | 51 kB 5.3 MB/s eta 0:00:01\r\u001b[K     |███████▎                        | 61 kB 5.8 MB/s eta 0:00:01\r\u001b[K     |████████▌                       | 71 kB 4.9 MB/s eta 0:00:01\r\u001b[K     |█████████▊                      | 81 kB 4.8 MB/s eta 0:00:01\r\u001b[K     |███████████                     | 92 kB 5.3 MB/s eta 0:00:01\r\u001b[K     |████████████▏                   | 102 kB 5.3 MB/s eta 0:00:01\r\u001b[K     |█████████████▍                  | 112 kB 5.3 MB/s eta 0:00:01\r\u001b[K     |██████████████▋                 | 122 kB 5.3 MB/s eta 0:00:01\r\u001b[K     |███████████████▉                | 133 kB 5.3 MB/s eta 0:00:01\r\u001b[K     |█████████████████               | 143 kB 5.3 MB/s eta 0:00:01\r\u001b[K     |██████████████████▎             | 153 kB 5.3 MB/s eta 0:00:01\r\u001b[K     |███████████████████▌            | 163 kB 5.3 MB/s eta 0:00:01\r\u001b[K     |████████████████████▊           | 174 kB 5.3 MB/s eta 0:00:01\r\u001b[K     |██████████████████████          | 184 kB 5.3 MB/s eta 0:00:01\r\u001b[K     |███████████████████████▏        | 194 kB 5.3 MB/s eta 0:00:01\r\u001b[K     |████████████████████████▍       | 204 kB 5.3 MB/s eta 0:00:01\r\u001b[K     |█████████████████████████▋      | 215 kB 5.3 MB/s eta 0:00:01\r\u001b[K     |██████████████████████████▉     | 225 kB 5.3 MB/s eta 0:00:01\r\u001b[K     |████████████████████████████    | 235 kB 5.3 MB/s eta 0:00:01\r\u001b[K     |█████████████████████████████▎  | 245 kB 5.3 MB/s eta 0:00:01\r\u001b[K     |██████████████████████████████▍ | 256 kB 5.3 MB/s eta 0:00:01\r\u001b[K     |███████████████████████████████▋| 266 kB 5.3 MB/s eta 0:00:01\r\u001b[K     |████████████████████████████████| 269 kB 5.3 MB/s \n",
            "\u001b[?25hInstalling collected packages: dnspython\n",
            "Successfully installed dnspython-2.2.1\n",
            "Requirement already satisfied: pymongo[srv] in /usr/local/lib/python3.7/dist-packages (4.0.2)\n",
            "Requirement already satisfied: dnspython<3.0.0,>=1.16.0 in /usr/local/lib/python3.7/dist-packages (from pymongo[srv]) (2.2.1)\n"
          ]
        }
      ],
      "source": [
        "!pip install dnspython\n",
        "!pip install pymongo[srv]\n",
        "import pandas as pd\n",
        "import re\n",
        "import json"
      ]
    },
    {
      "cell_type": "code",
      "source": [
        "def register():\n",
        "  db=open(\"guvitask1.txt\",\"w+\")\n",
        "  username=input(\"Enter a username:\")\n",
        "  email=input(\"Enter the emailID:\")\n",
        "  valid_email(email)\n",
        "  password=input(\"Enter the desired password:\")\n",
        "  valid_password(password)\n",
        "  password1=input(\"Re-confirm password:\")\n",
        "  d=[]\n",
        "  f=[]\n",
        "  for i in db:\n",
        "    a,b=i.split(\",\")\n",
        "    b=b.strip()\n",
        "    d.append(a)\n",
        "    f.append(b)\n",
        "  data=dict(zip(d,f))\n",
        "\n",
        "  if password!=password1:\n",
        "    print(\"password does not match, please register\")\n",
        "    register()\n",
        "  else:\n",
        "    if len(password)<=5:\n",
        "     print(\"password is to short, restart\")\n",
        "     register()\n",
        "    #elif username in d:\n",
        "     #print(\"username exists\")\n",
        "      #register()\n",
        "    else:\n",
        "      db=open(\"guvitask1.txt\",\"a\")\n",
        "      db.write(username+\",\"+password+\"\\n\")\n",
        "      print(\"success!\")\n",
        "\n",
        "\n",
        "def access():\n",
        "  db=open(\"guvitask1.txt\",\"r\")\n",
        "  username=input(\"enter username:\")\n",
        "  password=input(\"enter password:\")\n",
        "\n",
        "  if not len(username or password)<1:\n",
        "    d=[]\n",
        "    f=[]\n",
        "    for i in db:\n",
        "      a,b=i.split(\",\")\n",
        "      #b=b.strip()\n",
        "      d.append(a)\n",
        "      f.append(b)\n",
        "    data=dict(zip(d,f))\n",
        "\n",
        "  try:\n",
        "   if password==data[username]:\n",
        "      print(\"Login is successful\")\n",
        "      print(\"Hi!\", username)\n",
        "   else :\n",
        "      print(\"Username or password is incorrect\")\n",
        "  except:\n",
        "       print(\"Incorrect username or password\")\n",
        "\n",
        "def get_pass():\n",
        "  db=open(\"guvitask1.txt\",\"r\")\n",
        "  user=input(\"To access your forgoteen password, please enter your user name without errors\")\n",
        "  users=[]\n",
        "  passwords=[]\n",
        "  for i in db:\n",
        "    a,b=i.split(\",\")\n",
        "    b=b.strip()\n",
        "    users.append(a)\n",
        "    passwords.append(b)\n",
        "  info=dict(zip(users,passwords))\n",
        "\n",
        "  if user in info:\n",
        "    print(\"Here is your password: \", info.get(user))\n",
        "  else:\n",
        "    print(\"User does not exist, run again\")\n",
        "    print(\"You will have to register\")\n",
        "    home()\n",
        "\n",
        "def valid_email(email):\n",
        "  if '@' not in email:\n",
        "    print(\"Please do enter an email\")\n",
        "    email=input(\"enter email:\")\n",
        "    ind=email.index(\"@\")\n",
        "\n",
        "    if '.' not in email:\n",
        "      print(\"please enter valid email\")\n",
        "      email=input(\"enter email:\")\n",
        "      valid_email(email)\n",
        "\n",
        "    \n",
        "      if '.com' not in email[ind:] or '@.' in email:\n",
        "         print(\"please enter a valid email\")\n",
        "         email=input(\"enter email:\")\n",
        "         valid_email(email)\n",
        "\n",
        "def valid_password(pwd):\n",
        "  symbols={'~',':',\"'\",'[','\\\\','@','^','{','%','(','-','\"','*','|',',','&','<','`','}','.','_','=',']','!','>','>',';','?','#','$',')','/'}\n",
        "  val=True\n",
        "\n",
        "  if len(pwd)<5:\n",
        "    print(\"length should be atleast 5 character\")\n",
        "    val=False\n",
        "    password=input(\"enter password:\")\n",
        "    valid_password(password)\n",
        "\n",
        "  elif len(pwd)>16:\n",
        "    print(\"length should not greater then 16 character\")\n",
        "    val=False\n",
        "    password=input(\"enter password:\")\n",
        "    valid_password(password)\n",
        "  \n",
        "  elif not any(char.isdigit() for char in pwd):\n",
        "    print(\"password should have atleast one digit\")\n",
        "    val=False\n",
        "    password=(\"enter password:\")\n",
        "    valid_password(password)\n",
        "\n",
        "  elif not any(char.isupper() for char in pwd):\n",
        "    print(\"password should have atleat one uppercase character\")\n",
        "    val=False\n",
        "    password=input(\"enter password:\")\n",
        "    valid_password(password)\n",
        "\n",
        "  elif not any(char.islower() for char in pwd):\n",
        "    print(\"password should have atleast one lowercase character\")\n",
        "    val=False\n",
        "    password=(\"enter password:\")\n",
        "    valid_password(password)\n",
        "  \n",
        "  elif not any(char in symbols for char in pwd):\n",
        "    print(\"password should have atleast one special character\")\n",
        "    val=False\n",
        "    password=input(\"enter password:\")\n",
        "    valid_password(password)\n",
        "  \n",
        "  elif val:\n",
        "    return val\n",
        "\n",
        "\n",
        "\n",
        "def home():\n",
        "  option=input(\"login | signup | retrive_password| :\")\n",
        "  if option==\"login\":\n",
        "    access()\n",
        "  elif option==\"signup\":\n",
        "    register()\n",
        "  elif option==\"retrive_password\":\n",
        "    get_pass()\n",
        "  else:\n",
        "    print(\"enter an option:\")\n",
        "home()"
      ],
      "metadata": {
        "colab": {
          "base_uri": "https://localhost:8080/"
        },
        "id": "PXESEBp0rf9A",
        "outputId": "477fd3cc-3a1f-4312-a85e-f0120e2e0aa2"
      },
      "execution_count": 10,
      "outputs": [
        {
          "output_type": "stream",
          "name": "stdout",
          "text": [
            "login | signup | retrive_password| :retrive_password\n",
            "To access your forgoteen password, please enter your user name without errorsviki34\n",
            "Here is your password:  Qwerty34!\n"
          ]
        }
      ]
    }
  ]
}